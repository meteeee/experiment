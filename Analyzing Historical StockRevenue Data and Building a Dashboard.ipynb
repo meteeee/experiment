!pip install yfinance

# Import necessary libraries
import yfinance as yf
import pandas as pd
import requests
from plotly.subplots import make_subplots
import plotly.graph_objects as go

# Function to extract data using yfinance and return formatted DataFrame
def extract_data(ticker_symbol):
    ticker = yf.Ticker(ticker_symbol)
    data = ticker.history(period="max")
    data.reset_index(inplace=True)
    return data

# Function to scrape revenue data from given URL and return formatted DataFrame
def scrape_revenue_data(url, table_index):
    html_data = requests.get(url).text
    revenue_data = pd.read_html(html_data)[table_index]
    revenue_data.columns = ["Date", "Revenue"]
    revenue_data['Revenue'] = revenue_data['Revenue'].str.replace(r'[,\\$]', "", regex=True).astype(float)
    return revenue_data

# Function to create the visualization
def make_graph(stock_data, revenue_data, stock):
    fig = make_subplots(rows=2, cols=1, shared_xaxes=True, subplot_titles=("Historical Share Price", "Historical Revenue"), vertical_spacing=.3)
    fig.add_trace(go.Scatter(x=stock_data['Date'], y=stock_data['Close'], name="Share Price"), row=1, col=1)
    fig.add_trace(go.Scatter(x=revenue_data['Date'], y=revenue_data['Revenue'], name="Revenue"), row=2, col=1)
    fig.update_layout(showlegend=False, height=900, title=stock, xaxis_rangeslider_visible=True)
    fig.show()

# URLs for revenue data
tesla_url = 'https://cf-courses-data.s3.us.cloud-object-storage.appdomain.cloud/IBMDeveloperSkillsNetwork-PY0220EN-SkillsNetwork/labs/project/revenue.htm'
gamestop_url = 'https://cf-courses-data.s3.us.cloud-object-storage.appdomain.cloud/IBMDeveloperSkillsNetwork-PY0220EN-SkillsNetwork/labs/project/revenue.htm'
amd_url = 'https://cf-courses-data.s3.us.cloud-object-storage.appdomain.cloud/IBMDeveloperSkillsNetwork-PY0220EN-SkillsNetwork/labs/project/revenue.htm'
amazon_url = 'https://cf-courses-data.s3.us.cloud-object-storage.appdomain.cloud/IBMDeveloperSkillsNetwork-PY0220EN-SkillsNetwork/labs/project/revenue.htm'

# Extract and visualize data
tesla_data = extract_data("TSLA")
tesla_revenue = scrape_revenue_data(tesla_url, 1)
make_graph(tesla_data, tesla_revenue, 'Tesla Stock Data')

gamestop_data = extract_data("GME")
gme_revenue = scrape_revenue_data(gamestop_url, 1)
make_graph(gamestop_data, gme_revenue, 'GameStop Stock Data')

amd_data = extract_data("AMD")
amd_revenue = scrape_revenue_data(amd_url, 0)
make_graph(amd_data, amd_revenue, 'AMD Stock Data')

amazon_data = extract_data("AMZN")
amazon_revenue = scrape_revenue_data(amazon_url, 0)
make_graph(amazon_data, amazon_revenue, 'Amazon Stock Data')


# Function to extract stock data using yfinance and return formatted DataFrame
def extract_data(ticker_symbol):
    ticker = yf.Ticker(ticker_symbol)
    data = ticker.history(period="max")
    data.reset_index(inplace=True)
    return data

# Function to scrape revenue data from given URL and return formatted DataFrame
def scrape_revenue_data(url, table_index):
    html_data = pd.read_html(url)
    revenue_data = html_data[table_index]
    revenue_data.columns = ["Date", "Revenue"]
    revenue_data['Revenue'] = revenue_data['Revenue'].str.replace(r'[,\\$]', "", regex=True).astype(float)
    return revenue_data

# Function to create and display the stock graph
def make_graph(stock_data, revenue_data, stock_title):
    fig = make_subplots(rows=2, cols=1, shared_xaxes=True, subplot_titles=("Historical Share Price", "Historical Revenue"), vertical_spacing=.3)
    fig.add_trace(go.Scatter(x=stock_data['Date'], y=stock_data['Close'], name="Share Price"), row=1, col=1)
    fig.add_trace(go.Scatter(x=revenue_data['Date'], y=revenue_data['Revenue'], name="Revenue"), row=2, col=1)
    fig.update_layout(showlegend=False, height=900, title=stock_title, xaxis_rangeslider_visible=True)
    fig.show()

# Extract and display Tesla stock data
tesla_data = extract_data("TSLA")
print("First five rows of Tesla stock data:")
print(tesla_data.head())

# URLs for revenue data (Replace with actual URLs)
tesla_revenue_url = 'https://cf-courses-data.s3.us.cloud-object-storage.appdomain.cloud/IBMDeveloperSkillsNetwork-PY0220EN-SkillsNetwork/labs/project/revenue.htm'

# Scrape and display Tesla revenue data
tesla_revenue = scrape_revenue_data(tesla_revenue_url, 0)  # The index 0 is assumed to be the Tesla revenue table
print("\nLast five rows of Tesla revenue data:")
print(tesla_revenue.tail())

# Extract and display GameStop stock data
gme_data = extract_data("GME")
print("\nFirst five rows of GameStop stock data:")
print(gme_data.head())

# URLs for revenue data (Replace with actual URLs)
gamestop_revenue_url = 'https://cf-courses-data.s3.us.cloud-object-storage.appdomain.cloud/IBMDeveloperSkillsNetwork-PY0220EN-SkillsNetwork/labs/project/revenue.htm'

# Scrape and display GameStop revenue data
gme_revenue = scrape_revenue_data(gamestop_revenue_url, 0)  # The index 0 is assumed to be the GameStop revenue table
print("\nLast five rows of GameStop revenue data:")
print(gme_revenue.tail())

# Graph Tesla Stock Data
make_graph(tesla_data, tesla_revenue, 'Tesla Stock Data')

# Graph GameStop Stock Data
make_graph(gme_data, gme_revenue, 'GameStop Stock Data')
