{
 "cells": [
  {
   "cell_type": "code",
   "execution_count": 2,
   "id": "39a43a87",
   "metadata": {},
   "outputs": [
    {
     "name": "stdout",
     "output_type": "stream",
     "text": [
      "Number of launches from CCAFS SLC 40: 55\n",
      "Success rate: 45.55555555555556\n",
      "Number of orbits with the column name GTO: 27\n"
     ]
    }
   ],
   "source": [
    "import pandas as pd\n",
    "\n",
    "# Load the dataset\n",
    "df = pd.read_csv(\"https://cf-courses-data.s3.us.cloud-object-storage.appdomain.cloud/IBM-DS0321EN-SkillsNetwork/datasets/dataset_part_1.csv\")\n",
    "\n",
    "# Checking if 'Class' column exists\n",
    "if 'Class' in df.columns:\n",
    "    success_rate = df['Class'].mean() * 100\n",
    "else:\n",
    "    # Assuming 'Outcome' column exists and 'True ASDS' indicates a successful landing\n",
    "    df['Class'] = df['Outcome'].apply(lambda x: 1 if x == 'True ASDS' else 0)\n",
    "    success_rate = df['Class'].mean() * 100\n",
    "\n",
    "# Other calculations\n",
    "launches_at_CCAFS_SLC_40 = df['LaunchSite'].value_counts().get('CCAFS SLC 40', 0)\n",
    "GTO_count = df['Orbit'].value_counts().get('GTO', 0)\n",
    "\n",
    "# Printing the answers\n",
    "print(\"Number of launches from CCAFS SLC 40:\", launches_at_CCAFS_SLC_40)\n",
    "print(\"Success rate:\", success_rate)\n",
    "print(\"Number of orbits with the column name GTO:\", GTO_count)\n"
   ]
  },
  {
   "cell_type": "code",
   "execution_count": 5,
   "id": "ef073009",
   "metadata": {},
   "outputs": [
    {
     "name": "stdout",
     "output_type": "stream",
     "text": [
      "Number of 'None None' landing outcomes: 19\n"
     ]
    }
   ],
   "source": [
    "import pandas as pd\n",
    "\n",
    "# Load the dataset\n",
    "df = pd.read_csv(\"https://cf-courses-data.s3.us.cloud-object-storage.appdomain.cloud/IBM-DS0321EN-SkillsNetwork/datasets/dataset_part_1.csv\")\n",
    "\n",
    "# Count the number of 'None' outcomes in the 'Outcome' column\n",
    "none_landing_outcomes = df['Outcome'].value_counts().get('None None', 0)\n",
    "\n",
    "# Printing the result\n",
    "print(\"Number of 'None None' landing outcomes:\", none_landing_outcomes)\n"
   ]
  },
  {
   "cell_type": "code",
   "execution_count": null,
   "id": "730b0252",
   "metadata": {},
   "outputs": [],
   "source": []
  }
 ],
 "metadata": {
  "kernelspec": {
   "display_name": "Python 3 (ipykernel)",
   "language": "python",
   "name": "python3"
  },
  "language_info": {
   "codemirror_mode": {
    "name": "ipython",
    "version": 3
   },
   "file_extension": ".py",
   "mimetype": "text/x-python",
   "name": "python",
   "nbconvert_exporter": "python",
   "pygments_lexer": "ipython3",
   "version": "3.10.9"
  }
 },
 "nbformat": 4,
 "nbformat_minor": 5
}
